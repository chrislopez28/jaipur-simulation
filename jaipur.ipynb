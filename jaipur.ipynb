{
 "cells": [
  {
   "cell_type": "markdown",
   "metadata": {},
   "source": [
    "# Game Analysis Jaipur\n",
    "\n",
    "There are 55 cards in deck of Jaipur:\n",
    "* 6 diamond\n",
    "* 6 gold\n",
    "* 6 silver\n",
    "* 8 cloth\n",
    "* 8 spices\n",
    "* 8 leather\n",
    "* 11 camel\n",
    "\n",
    "At the start of the game the 5-card market must be initialized with at least 3 camel cards. Therefore, the initial card deal is from a 52 card deck.\n",
    "\n",
    "## Highest Possible Starting Hand?\n",
    "A player could be dealt 5 diamond hands at the beginning of the game. A sale of 5 diamonds would be worth 29 rupees, **plus** the value of the 5-card bonus token (worth 8, 9, or 10 rupees). From the matches I have played, a winning game is often around 70 rupees, so to me having 37-39 rupees from the start of the game seems like an almost insurmountable position. \n",
    "\n",
    "What is the probability of getting such a hand?\n",
    "\n",
    "$$\n",
    "\\text{probability 5 diamonds} = \\frac{6\\choose 5}{52\\choose 5} = \\frac{6}{2598960} \\approx 0.0002\\%\n",
    "$$\n",
    "\n",
    "As a percentage it's hard to make any sense of this number. Perhaps a better way of thinking about it is *1 in 433,160*. So imagine going to a Clippers game with an attendance of ~19,000 people and they randomly select a fan attending the game for a chance to win a prize (say a new car). They then do the same thing for the *next 21 home games* so that 22 fans in total are selected. 1 fan out of these 22 selected fans is then selected to win the prize. Of course dealing out hands in Jaipur is much quicker and less expensive than attending a basketball game, but that's besides the point."
   ]
  },
  {
   "cell_type": "code",
   "execution_count": 5,
   "metadata": {},
   "outputs": [
    {
     "data": {
      "text/plain": [
       "2.392344497607656e-06"
      ]
     },
     "execution_count": 5,
     "metadata": {},
     "output_type": "execute_result"
    }
   ],
   "source": [
    "(1 / 19000) * (1 / 22)"
   ]
  },
  {
   "cell_type": "code",
   "execution_count": 6,
   "metadata": {},
   "outputs": [
    {
     "data": {
      "text/plain": [
       "2.308615753993905e-06"
      ]
     },
     "execution_count": 6,
     "metadata": {},
     "output_type": "execute_result"
    }
   ],
   "source": [
    "6 / 2598960"
   ]
  },
  {
   "cell_type": "code",
   "execution_count": null,
   "metadata": {},
   "outputs": [],
   "source": []
  }
 ],
 "metadata": {
  "kernelspec": {
   "display_name": "Python 3",
   "language": "python",
   "name": "python3"
  },
  "language_info": {
   "codemirror_mode": {
    "name": "ipython",
    "version": 3
   },
   "file_extension": ".py",
   "mimetype": "text/x-python",
   "name": "python",
   "nbconvert_exporter": "python",
   "pygments_lexer": "ipython3",
   "version": "3.8.5"
  }
 },
 "nbformat": 4,
 "nbformat_minor": 4
}

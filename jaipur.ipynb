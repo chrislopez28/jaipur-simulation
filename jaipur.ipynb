{
 "cells": [
  {
   "cell_type": "markdown",
   "metadata": {},
   "source": [
    "# Jaipur - Basic Starting Hand Probabilities\n",
    "\n",
    "There are 55 cards in deck of Jaipur:\n",
    "* 6 diamond\n",
    "* 6 gold\n",
    "* 6 silver\n",
    "* 8 cloth\n",
    "* 8 spices\n",
    "* 8 leather\n",
    "* 11 camel (8 camel after initializing the market with 3 camel cards)\n",
    "\n",
    "At the start of the game the 5-card market must be initialized with at least 3 camel cards. Therefore, the initial card deal is from a 52 card deck.\n",
    "\n",
    "## Highest Possible Starting Hand?\n",
    "A player could be dealt 5 diamond hands at the beginning of the game. A sale of 5 diamonds would be worth 29 rupees, **plus** the value of the 5-card bonus token (worth 8, 9, or 10 rupees). From the matches I have played, a winning game is often around 70 rupees, so to me having 37-39 rupees from the start of the game seems like an almost insurmountable position. \n",
    "\n",
    "What is the probability of getting such a hand?\n",
    "\n",
    "$$\n",
    "\\text{probability 5 diamonds} = \\frac{6\\choose 5}{52\\choose 5} = \\frac{6}{2598960} \\approx 0.0002\\%\n",
    "$$\n",
    "\n",
    "As a percentage it's hard to make any sense of this number. Perhaps a better way to understand it is in terms of the odds *1 in 433,160*. Or perhaps through a hypotethical: Imagine going to a Clippers game with an attendance of ~19,000 people and they randomly select a fan attending the game for a chance to win a prize. They then do the same thing for the *next 21 home games* so that 22 fans in total are selected. 1 fan out of these 22 selected fans is then selected to win the prize. The probability of you ultimately getting selected out of all these fans is similar to the probability of getting dealt a 5 diamond starting hand in Jaipur."
   ]
  },
  {
   "cell_type": "code",
   "execution_count": 1,
   "metadata": {
    "tags": []
   },
   "outputs": [
    {
     "name": "stdout",
     "output_type": "stream",
     "text": [
      "2.392344497607656e-06\n",
      "2.308615753993905e-06\n"
     ]
    }
   ],
   "source": [
    "prob_fan_getting_selected = (1 / 19000) * (1 / 22)\n",
    "prob_diamonds = 6 / 2598960\n",
    "print(prob_fan_getting_selected)\n",
    "print(prob_diamonds)"
   ]
  },
  {
   "cell_type": "markdown",
   "metadata": {},
   "source": [
    "## Probability of getting n cards of a particular card type in a starting hand \n",
    "\n",
    "TODO"
   ]
  },
  {
   "cell_type": "markdown",
   "metadata": {},
   "source": [
    "## Simulation of starting hands\n",
    "\n",
    "In the code below we generate 1,000,000 starting hands. Let's see if we get any 5-of-a-kind hands."
   ]
  },
  {
   "cell_type": "code",
   "execution_count": 2,
   "metadata": {},
   "outputs": [
    {
     "name": "stdout",
     "output_type": "stream",
     "text": [
      "\n",
      "Creating Decks...\n",
      "\n",
      "Drawing Hands...\n",
      "\n",
      "Summary of hands generated. The table below shows the number of hands that had 0, 1, 2, 3, 4, or 5 cards of a card type. Each column should add up to the number of simulated hands.\n",
      "\n",
      "n=1000000\n",
      "\n",
      "   Diamond    Gold  Silver   Cloth  Spices  Leather   Camel\n",
      "0   527421  527488  527611  417283  417568   327139  418320\n",
      "1   377336  376911  377044  418782  417632   430383  417546\n",
      "2    87076   87226   87094  142309  143300   199038  142404\n",
      "3     7898    8102    7984   20438   20313    39831   20503\n",
      "4      268     272     264    1161    1172     3496    1202\n",
      "5        1       1       3      27      15      113      25\n"
     ]
    }
   ],
   "source": [
    "import jaipur_simulations\n",
    "\n",
    "df = jaipur_simulations.create_starting_hands(1000000)"
   ]
  },
  {
   "cell_type": "code",
   "execution_count": 3,
   "metadata": {},
   "outputs": [
    {
     "data": {
      "image/png": "[encoded data removed]",
      "text/plain": [
       "<Figure size 432x288 with 1 Axes>"
      ]
     },
     "metadata": {
      "needs_background": "light"
     },
     "output_type": "display_data"
    }
   ],
   "source": [
    "import matplotlib.pyplot as plt\n",
    "\n",
    "fig, ax = plt.subplots()\n",
    "plt.title(\"Number of Simulated Hands (n = 1,000,000) with Diamonds\")\n",
    "plt.ylabel(\"Count\")\n",
    "plt.xlabel(\"# of Diamonds\")\n",
    "\n",
    "plt = df['Diamond'].value_counts().plot(ax=ax, kind='bar')"
   ]
  },
  {
   "cell_type": "code",
   "execution_count": null,
   "metadata": {},
   "outputs": [],
   "source": []
  }
 ],
 "metadata": {
  "kernelspec": {
   "display_name": "Python 3",
   "language": "python",
   "name": "python3"
  },
  "language_info": {
   "codemirror_mode": {
    "name": "ipython",
    "version": 3
   },
   "file_extension": ".py",
   "mimetype": "text/x-python",
   "name": "python",
   "nbconvert_exporter": "python",
   "pygments_lexer": "ipython3",
   "version": "3.8.5"
  }
 },
 "nbformat": 4,
 "nbformat_minor": 4
}
